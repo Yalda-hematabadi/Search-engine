{
  "nbformat": 4,
  "nbformat_minor": 0,
  "metadata": {
    "colab": {
      "provenance": []
    },
    "kernelspec": {
      "name": "python3",
      "display_name": "Python 3"
    },
    "language_info": {
      "name": "python"
    }
  },
  "cells": [
    {
      "cell_type": "code",
      "execution_count": 34,
      "metadata": {
        "id": "I1Izbf60G338"
      },
      "outputs": [],
      "source": [
        "import pandas as pd\n",
        "import torch\n",
        "import umap\n",
        "from sklearn.cluster import KMeans"
      ]
    },
    {
      "cell_type": "code",
      "source": [
        "df = pd.read_csv('elasticsearch_data.csv')"
      ],
      "metadata": {
        "id": "ArHkBMyiHO7g"
      },
      "execution_count": 2,
      "outputs": []
    },
    {
      "cell_type": "code",
      "source": [
        "df.head()"
      ],
      "metadata": {
        "colab": {
          "base_uri": "https://localhost:8080/",
          "height": 206
        },
        "id": "v6Z9F6IoHU9k",
        "outputId": "0cbeaf0d-b46d-43b5-9890-5f990edf6d3c"
      },
      "execution_count": 3,
      "outputs": [
        {
          "output_type": "execute_result",
          "data": {
            "text/plain": [
              "                                                 url  \\\n",
              "0  https://www.zoomit.ir/buying-guide/272487-best...   \n",
              "1  https://www.zoomit.ir/buying-guide/422495-best...   \n",
              "2  https://www.zoomit.ir/buying-guide/127190-best...   \n",
              "3  https://www.zoomit.ir/computer-learning/420381...   \n",
              "4  https://www.zoomit.ir/howto/347269-download-yo...   \n",
              "\n",
              "                                               title       published_date  \\\n",
              "0  راهنمای خرید بهترین گوشی موبایل - تیر ۱۴۰۳ - ا...  1403-04-04 20:40:00   \n",
              "1           بهترین کولر آبی بازار ایران [خرداد ۱۴۰۳]  1403-03-28 21:30:00   \n",
              "2  بهترین ساعت های هوشمند و مچ بند های هوشمند باز...  1403-03-27 16:45:00   \n",
              "3  چگونه کامپیوتر را از طریق گوشی خاموش کنیم؟ - ز...  1403-02-14 15:30:00   \n",
              "4  آموزش دانلود از یوتیوب با گوشی های اندرویدی و ...  1403-04-01 12:30:00   \n",
              "\n",
              "                                             content tags keywords  \\\n",
              "0  با‌‌ توجه‌‌‌‌ به افزایش بی‌سابقه و افسارگسیخته...   []       []   \n",
              "1  اگر در مناطقی با آب‌وهوای معتدل و نسبتاً خشک ز...   []       []   \n",
              "2  تا چند سال قبل اگر قصد خرید \\nساعت هوشمند\\n یا...   []       []   \n",
              "3  فرض کنید درحال‌ خروج از خانه یادتان می‌آید که ...   []       []   \n",
              "4  بعضی مواقع برای دسترسی آسان‌ و آفلاین به ویدئو...   []       []   \n",
              "\n",
              "               label                crawled_date  \n",
              "0  computer-learning  2024-06-24T20:56:02.038218  \n",
              "1  computer-learning  2024-06-24T20:56:04.426830  \n",
              "2  computer-learning  2024-06-24T20:56:05.675861  \n",
              "3  computer-learning  2024-06-24T20:55:58.824341  \n",
              "4  computer-learning  2024-06-24T20:55:59.457658  "
            ],
            "text/html": [
              "\n",
              "  <div id=\"df-4f094e8f-3da1-451d-a4aa-39b60539a62b\" class=\"colab-df-container\">\n",
              "    <div>\n",
              "<style scoped>\n",
              "    .dataframe tbody tr th:only-of-type {\n",
              "        vertical-align: middle;\n",
              "    }\n",
              "\n",
              "    .dataframe tbody tr th {\n",
              "        vertical-align: top;\n",
              "    }\n",
              "\n",
              "    .dataframe thead th {\n",
              "        text-align: right;\n",
              "    }\n",
              "</style>\n",
              "<table border=\"1\" class=\"dataframe\">\n",
              "  <thead>\n",
              "    <tr style=\"text-align: right;\">\n",
              "      <th></th>\n",
              "      <th>url</th>\n",
              "      <th>title</th>\n",
              "      <th>published_date</th>\n",
              "      <th>content</th>\n",
              "      <th>tags</th>\n",
              "      <th>keywords</th>\n",
              "      <th>label</th>\n",
              "      <th>crawled_date</th>\n",
              "    </tr>\n",
              "  </thead>\n",
              "  <tbody>\n",
              "    <tr>\n",
              "      <th>0</th>\n",
              "      <td>https://www.zoomit.ir/buying-guide/272487-best...</td>\n",
              "      <td>راهنمای خرید بهترین گوشی موبایل - تیر ۱۴۰۳ - ا...</td>\n",
              "      <td>1403-04-04 20:40:00</td>\n",
              "      <td>با‌‌ توجه‌‌‌‌ به افزایش بی‌سابقه و افسارگسیخته...</td>\n",
              "      <td>[]</td>\n",
              "      <td>[]</td>\n",
              "      <td>computer-learning</td>\n",
              "      <td>2024-06-24T20:56:02.038218</td>\n",
              "    </tr>\n",
              "    <tr>\n",
              "      <th>1</th>\n",
              "      <td>https://www.zoomit.ir/buying-guide/422495-best...</td>\n",
              "      <td>بهترین کولر آبی بازار ایران [خرداد ۱۴۰۳]</td>\n",
              "      <td>1403-03-28 21:30:00</td>\n",
              "      <td>اگر در مناطقی با آب‌وهوای معتدل و نسبتاً خشک ز...</td>\n",
              "      <td>[]</td>\n",
              "      <td>[]</td>\n",
              "      <td>computer-learning</td>\n",
              "      <td>2024-06-24T20:56:04.426830</td>\n",
              "    </tr>\n",
              "    <tr>\n",
              "      <th>2</th>\n",
              "      <td>https://www.zoomit.ir/buying-guide/127190-best...</td>\n",
              "      <td>بهترین ساعت های هوشمند و مچ بند های هوشمند باز...</td>\n",
              "      <td>1403-03-27 16:45:00</td>\n",
              "      <td>تا چند سال قبل اگر قصد خرید \\nساعت هوشمند\\n یا...</td>\n",
              "      <td>[]</td>\n",
              "      <td>[]</td>\n",
              "      <td>computer-learning</td>\n",
              "      <td>2024-06-24T20:56:05.675861</td>\n",
              "    </tr>\n",
              "    <tr>\n",
              "      <th>3</th>\n",
              "      <td>https://www.zoomit.ir/computer-learning/420381...</td>\n",
              "      <td>چگونه کامپیوتر را از طریق گوشی خاموش کنیم؟ - ز...</td>\n",
              "      <td>1403-02-14 15:30:00</td>\n",
              "      <td>فرض کنید درحال‌ خروج از خانه یادتان می‌آید که ...</td>\n",
              "      <td>[]</td>\n",
              "      <td>[]</td>\n",
              "      <td>computer-learning</td>\n",
              "      <td>2024-06-24T20:55:58.824341</td>\n",
              "    </tr>\n",
              "    <tr>\n",
              "      <th>4</th>\n",
              "      <td>https://www.zoomit.ir/howto/347269-download-yo...</td>\n",
              "      <td>آموزش دانلود از یوتیوب با گوشی های اندرویدی و ...</td>\n",
              "      <td>1403-04-01 12:30:00</td>\n",
              "      <td>بعضی مواقع برای دسترسی آسان‌ و آفلاین به ویدئو...</td>\n",
              "      <td>[]</td>\n",
              "      <td>[]</td>\n",
              "      <td>computer-learning</td>\n",
              "      <td>2024-06-24T20:55:59.457658</td>\n",
              "    </tr>\n",
              "  </tbody>\n",
              "</table>\n",
              "</div>\n",
              "    <div class=\"colab-df-buttons\">\n",
              "\n",
              "  <div class=\"colab-df-container\">\n",
              "    <button class=\"colab-df-convert\" onclick=\"convertToInteractive('df-4f094e8f-3da1-451d-a4aa-39b60539a62b')\"\n",
              "            title=\"Convert this dataframe to an interactive table.\"\n",
              "            style=\"display:none;\">\n",
              "\n",
              "  <svg xmlns=\"http://www.w3.org/2000/svg\" height=\"24px\" viewBox=\"0 -960 960 960\">\n",
              "    <path d=\"M120-120v-720h720v720H120Zm60-500h600v-160H180v160Zm220 220h160v-160H400v160Zm0 220h160v-160H400v160ZM180-400h160v-160H180v160Zm440 0h160v-160H620v160ZM180-180h160v-160H180v160Zm440 0h160v-160H620v160Z\"/>\n",
              "  </svg>\n",
              "    </button>\n",
              "\n",
              "  <style>\n",
              "    .colab-df-container {\n",
              "      display:flex;\n",
              "      gap: 12px;\n",
              "    }\n",
              "\n",
              "    .colab-df-convert {\n",
              "      background-color: #E8F0FE;\n",
              "      border: none;\n",
              "      border-radius: 50%;\n",
              "      cursor: pointer;\n",
              "      display: none;\n",
              "      fill: #1967D2;\n",
              "      height: 32px;\n",
              "      padding: 0 0 0 0;\n",
              "      width: 32px;\n",
              "    }\n",
              "\n",
              "    .colab-df-convert:hover {\n",
              "      background-color: #E2EBFA;\n",
              "      box-shadow: 0px 1px 2px rgba(60, 64, 67, 0.3), 0px 1px 3px 1px rgba(60, 64, 67, 0.15);\n",
              "      fill: #174EA6;\n",
              "    }\n",
              "\n",
              "    .colab-df-buttons div {\n",
              "      margin-bottom: 4px;\n",
              "    }\n",
              "\n",
              "    [theme=dark] .colab-df-convert {\n",
              "      background-color: #3B4455;\n",
              "      fill: #D2E3FC;\n",
              "    }\n",
              "\n",
              "    [theme=dark] .colab-df-convert:hover {\n",
              "      background-color: #434B5C;\n",
              "      box-shadow: 0px 1px 3px 1px rgba(0, 0, 0, 0.15);\n",
              "      filter: drop-shadow(0px 1px 2px rgba(0, 0, 0, 0.3));\n",
              "      fill: #FFFFFF;\n",
              "    }\n",
              "  </style>\n",
              "\n",
              "    <script>\n",
              "      const buttonEl =\n",
              "        document.querySelector('#df-4f094e8f-3da1-451d-a4aa-39b60539a62b button.colab-df-convert');\n",
              "      buttonEl.style.display =\n",
              "        google.colab.kernel.accessAllowed ? 'block' : 'none';\n",
              "\n",
              "      async function convertToInteractive(key) {\n",
              "        const element = document.querySelector('#df-4f094e8f-3da1-451d-a4aa-39b60539a62b');\n",
              "        const dataTable =\n",
              "          await google.colab.kernel.invokeFunction('convertToInteractive',\n",
              "                                                    [key], {});\n",
              "        if (!dataTable) return;\n",
              "\n",
              "        const docLinkHtml = 'Like what you see? Visit the ' +\n",
              "          '<a target=\"_blank\" href=https://colab.research.google.com/notebooks/data_table.ipynb>data table notebook</a>'\n",
              "          + ' to learn more about interactive tables.';\n",
              "        element.innerHTML = '';\n",
              "        dataTable['output_type'] = 'display_data';\n",
              "        await google.colab.output.renderOutput(dataTable, element);\n",
              "        const docLink = document.createElement('div');\n",
              "        docLink.innerHTML = docLinkHtml;\n",
              "        element.appendChild(docLink);\n",
              "      }\n",
              "    </script>\n",
              "  </div>\n",
              "\n",
              "\n",
              "<div id=\"df-77e63d0f-2b93-42a8-85ed-921295e6e78c\">\n",
              "  <button class=\"colab-df-quickchart\" onclick=\"quickchart('df-77e63d0f-2b93-42a8-85ed-921295e6e78c')\"\n",
              "            title=\"Suggest charts\"\n",
              "            style=\"display:none;\">\n",
              "\n",
              "<svg xmlns=\"http://www.w3.org/2000/svg\" height=\"24px\"viewBox=\"0 0 24 24\"\n",
              "     width=\"24px\">\n",
              "    <g>\n",
              "        <path d=\"M19 3H5c-1.1 0-2 .9-2 2v14c0 1.1.9 2 2 2h14c1.1 0 2-.9 2-2V5c0-1.1-.9-2-2-2zM9 17H7v-7h2v7zm4 0h-2V7h2v10zm4 0h-2v-4h2v4z\"/>\n",
              "    </g>\n",
              "</svg>\n",
              "  </button>\n",
              "\n",
              "<style>\n",
              "  .colab-df-quickchart {\n",
              "      --bg-color: #E8F0FE;\n",
              "      --fill-color: #1967D2;\n",
              "      --hover-bg-color: #E2EBFA;\n",
              "      --hover-fill-color: #174EA6;\n",
              "      --disabled-fill-color: #AAA;\n",
              "      --disabled-bg-color: #DDD;\n",
              "  }\n",
              "\n",
              "  [theme=dark] .colab-df-quickchart {\n",
              "      --bg-color: #3B4455;\n",
              "      --fill-color: #D2E3FC;\n",
              "      --hover-bg-color: #434B5C;\n",
              "      --hover-fill-color: #FFFFFF;\n",
              "      --disabled-bg-color: #3B4455;\n",
              "      --disabled-fill-color: #666;\n",
              "  }\n",
              "\n",
              "  .colab-df-quickchart {\n",
              "    background-color: var(--bg-color);\n",
              "    border: none;\n",
              "    border-radius: 50%;\n",
              "    cursor: pointer;\n",
              "    display: none;\n",
              "    fill: var(--fill-color);\n",
              "    height: 32px;\n",
              "    padding: 0;\n",
              "    width: 32px;\n",
              "  }\n",
              "\n",
              "  .colab-df-quickchart:hover {\n",
              "    background-color: var(--hover-bg-color);\n",
              "    box-shadow: 0 1px 2px rgba(60, 64, 67, 0.3), 0 1px 3px 1px rgba(60, 64, 67, 0.15);\n",
              "    fill: var(--button-hover-fill-color);\n",
              "  }\n",
              "\n",
              "  .colab-df-quickchart-complete:disabled,\n",
              "  .colab-df-quickchart-complete:disabled:hover {\n",
              "    background-color: var(--disabled-bg-color);\n",
              "    fill: var(--disabled-fill-color);\n",
              "    box-shadow: none;\n",
              "  }\n",
              "\n",
              "  .colab-df-spinner {\n",
              "    border: 2px solid var(--fill-color);\n",
              "    border-color: transparent;\n",
              "    border-bottom-color: var(--fill-color);\n",
              "    animation:\n",
              "      spin 1s steps(1) infinite;\n",
              "  }\n",
              "\n",
              "  @keyframes spin {\n",
              "    0% {\n",
              "      border-color: transparent;\n",
              "      border-bottom-color: var(--fill-color);\n",
              "      border-left-color: var(--fill-color);\n",
              "    }\n",
              "    20% {\n",
              "      border-color: transparent;\n",
              "      border-left-color: var(--fill-color);\n",
              "      border-top-color: var(--fill-color);\n",
              "    }\n",
              "    30% {\n",
              "      border-color: transparent;\n",
              "      border-left-color: var(--fill-color);\n",
              "      border-top-color: var(--fill-color);\n",
              "      border-right-color: var(--fill-color);\n",
              "    }\n",
              "    40% {\n",
              "      border-color: transparent;\n",
              "      border-right-color: var(--fill-color);\n",
              "      border-top-color: var(--fill-color);\n",
              "    }\n",
              "    60% {\n",
              "      border-color: transparent;\n",
              "      border-right-color: var(--fill-color);\n",
              "    }\n",
              "    80% {\n",
              "      border-color: transparent;\n",
              "      border-right-color: var(--fill-color);\n",
              "      border-bottom-color: var(--fill-color);\n",
              "    }\n",
              "    90% {\n",
              "      border-color: transparent;\n",
              "      border-bottom-color: var(--fill-color);\n",
              "    }\n",
              "  }\n",
              "</style>\n",
              "\n",
              "  <script>\n",
              "    async function quickchart(key) {\n",
              "      const quickchartButtonEl =\n",
              "        document.querySelector('#' + key + ' button');\n",
              "      quickchartButtonEl.disabled = true;  // To prevent multiple clicks.\n",
              "      quickchartButtonEl.classList.add('colab-df-spinner');\n",
              "      try {\n",
              "        const charts = await google.colab.kernel.invokeFunction(\n",
              "            'suggestCharts', [key], {});\n",
              "      } catch (error) {\n",
              "        console.error('Error during call to suggestCharts:', error);\n",
              "      }\n",
              "      quickchartButtonEl.classList.remove('colab-df-spinner');\n",
              "      quickchartButtonEl.classList.add('colab-df-quickchart-complete');\n",
              "    }\n",
              "    (() => {\n",
              "      let quickchartButtonEl =\n",
              "        document.querySelector('#df-77e63d0f-2b93-42a8-85ed-921295e6e78c button');\n",
              "      quickchartButtonEl.style.display =\n",
              "        google.colab.kernel.accessAllowed ? 'block' : 'none';\n",
              "    })();\n",
              "  </script>\n",
              "</div>\n",
              "\n",
              "    </div>\n",
              "  </div>\n"
            ],
            "application/vnd.google.colaboratory.intrinsic+json": {
              "type": "dataframe",
              "variable_name": "df",
              "summary": "{\n  \"name\": \"df\",\n  \"rows\": 75,\n  \"fields\": [\n    {\n      \"column\": \"url\",\n      \"properties\": {\n        \"dtype\": \"string\",\n        \"num_unique_values\": 42,\n        \"samples\": [\n          \"https://zoomit.ir/mobile/\",\n          \"https://www.zoomit.ir/product/\",\n          \"https://www.zoomit.ir/computer-learning/410639-what-is-tiny11-how-install/\"\n        ],\n        \"semantic_type\": \"\",\n        \"description\": \"\"\n      }\n    },\n    {\n      \"column\": \"title\",\n      \"properties\": {\n        \"dtype\": \"string\",\n        \"num_unique_values\": 41,\n        \"samples\": [\n          \"\\u0627\\u062e\\u0628\\u0627\\u0631 \\u06af\\u0648\\u0634\\u06cc \\u0645\\u0648\\u0628\\u0627\\u06cc\\u0644 | \\u0628\\u0631\\u0631\\u0633\\u06cc \\u062c\\u062f\\u06cc\\u062f\\u062a\\u0631\\u06cc\\u0646 \\u06af\\u0648\\u0634\\u06cc \\u0647\\u0627\\u06cc \\u0628\\u0627\\u0632\\u0627\\u0631 \\u0648... - \\u0632\\u0648\\u0645\\u06cc\\u062a\",\n          \"\\u0645\\u062d\\u0635\\u0648\\u0644\\u0627\\u062a \\u0632\\u0648\\u0645\\u06cc\\u062a | \\u0627\\u0631\\u0632\\u0627\\u0646\\u200c\\u200c\\u062a\\u0631\\u06cc\\u0646 \\u0641\\u0631\\u0648\\u0634\\u0646\\u062f\\u0647 \\u0631\\u0627 \\u067e\\u06cc\\u062f\\u0627 \\u06a9\\u0646\",\n          \"\\u0622\\u0645\\u0648\\u0632\\u0634 \\u0646\\u0635\\u0628 \\u0648 \\u0627\\u062c\\u0631\\u0627\\u06cc \\u0646\\u0633\\u062e\\u0647 \\u0633\\u0628\\u06a9 \\u0648\\u06cc\\u0646\\u062f\\u0648\\u0632 11 \\u0628\\u0631\\u0627\\u06cc \\u0633\\u06cc\\u0633\\u062a\\u0645 \\u0642\\u062f\\u06cc\\u0645\\u06cc\"\n        ],\n        \"semantic_type\": \"\",\n        \"description\": \"\"\n      }\n    },\n    {\n      \"column\": \"published_date\",\n      \"properties\": {\n        \"dtype\": \"string\",\n        \"num_unique_values\": 58,\n        \"samples\": [\n          \"1403-04-04 20:40:00\",\n          \"1403-04-02 14:35:00\",\n          \"1402-03-21 20:30:00\"\n        ],\n        \"semantic_type\": \"\",\n        \"description\": \"\"\n      }\n    },\n    {\n      \"column\": \"content\",\n      \"properties\": {\n        \"dtype\": \"string\",\n        \"num_unique_values\": 39,\n        \"samples\": [\n          \"\\u06af\\u0644\\u06a9\\u0633\\u06cc \\u0628\\u0648\\u06a9 \\u06f3 \\u0627\\u0648\\u0644\\u062a\\u0631\\u0627\\n \\u06a9\\u0647 \\n\\u0628\\u0647\\u062a\\u0631\\u06cc\\u0646 \\u0644\\u067e \\u062a\\u0627\\u067e\\n \\u0633\\u0627\\u0645\\u0633\\u0648\\u0646\\u06af \\u0628\\u0647\\u200c\\u062d\\u0633\\u0627\\u0628 \\u0645\\u06cc\\u200c\\u0622\\u06cc\\u062f\\u060c \\u062f\\u0633\\u062a\\u06af\\u0627\\u0647\\u06cc \\u0627\\u0633\\u062a \\u06a9\\u0647 \\u0646\\u0641\\u0631\\u06cc\\u0646 \\u0644\\u067e\\u200c\\u062a\\u0627\\u067e\\u200c\\u0647\\u0627\\u06cc \\u0648\\u06cc\\u0646\\u062f\\u0648\\u0632\\u06cc \\u0631\\u0627 \\u0645\\u06cc\\u200c\\u0634\\u06a9\\u0646\\u062f \\u0648 \\u0631\\u0642\\u06cc\\u0628\\u06cc \\u062a\\u0648\\u0627\\u0646\\u0645\\u0646\\u062f \\u0628\\u0631\\u0627\\u06cc \\u0645\\u062f\\u0644\\u200c\\u0647\\u0627\\u06cc \\u0645\\u062e\\u062a\\u0644\\u0641 \\n\\u0644\\u067e \\u062a\\u0627\\u067e \\u0627\\u067e\\u0644\\n \\u0645\\u062d\\u0633\\u0648\\u0628 \\u0645\\u06cc\\u200c\\u0634\\u0648\\u062f. \\n\\u06af\\u0644\\u06a9\\u0633\\u06cc \\u0628\\u0648\\u06a9 \\u06f3 \\u0627\\u0648\\u0644\\u062a\\u0631\\u0627 \\u0628\\u0647\\u200c\\u0646\\u0648\\u0639\\u06cc \\u0627\\u0648\\u0644\\u06cc\\u0646 \\u0627\\u0648\\u0644\\u062a\\u0631\\u0627\\u0628\\u0648\\u06a9 \\u067e\\u0631\\u0642\\u062f\\u0631\\u062a \\u0633\\u0627\\u0645\\u0633\\u0648\\u0646\\u06af \\u0627\\u0633\\u062a \\u0648 \\u0627\\u0632 \\n\\u067e\\u0631\\u062f\\u0627\\u0632\\u0646\\u062f\\u0647 \\u0627\\u06cc\\u0646\\u062a\\u0644\\n \\u0646\\u0633\\u0644 \\u06f1\\u06f3 \\u0648 \\n\\u06af\\u0631\\u0627\\u0641\\u06cc\\u06a9 \\u0627\\u0646\\u0648\\u06cc\\u062f\\u06cc\\u0627\\n \\u0645\\u062f\\u0644 \\nRTX 4070\\n \\u0648 \\u06f3\\u06f2 \\u06af\\u06cc\\u06af\\u0627\\u0628\\u0627\\u06cc\\u062a \\u0631\\u0645 \\u0648 \\u06cc\\u06a9 \\u062a\\u0631\\u0627\\u0628\\u0627\\u06cc\\u062a SSD \\u0627\\u0633\\u062a\\u0641\\u0627\\u062f\\u0647 \\u0645\\u06cc\\u200c\\u06a9\\u0646\\u062f. \\u06cc\\u06a9\\u06cc \\u0627\\u0632 \\u0646\\u06a9\\u0627\\u062a \\u062c\\u0630\\u0627\\u0628 \\u062f\\u0631\\u0628\\u0627\\u0631\\u0647\\u200c\\u06cc \\u06af\\u0644\\u06a9\\u0633\\u06cc \\u0628\\u0648\\u06a9 \\u06f3 \\u0627\\u0648\\u0644\\u062a\\u0631\\u0627\\u060c \\u0628\\u0647\\u0631\\u0647\\u200c\\u0645\\u0646\\u062f\\u06cc \\u0627\\u0632 \\u0646\\u0645\\u0627\\u06cc\\u0634\\u06af\\u0631 \\u0627\\u0648\\u0644\\u062f \\u0628\\u0627 \\u0648\\u0636\\u0648\\u062d 3K \\u0627\\u0633\\u062a.\\n\\u0632\\u0648\\u0645\\u06cc\\u062a \\u062f\\u0631 \\u0648\\u06cc\\u062f\\u06cc\\u0648 \\u0628\\u0627\\u0644\\u0627 \\u06af\\u0644\\u06a9\\u0633\\u06cc \\u0628\\u0648\\u06a9 \\u06f3 \\u0627\\u0648\\u0644\\u062a\\u0631\\u0627 \\u0631\\u0627 \\u0632\\u06cc\\u0631 \\u0630\\u0631\\u0647\\u200c\\u0628\\u06cc\\u0646 \\u0628\\u0631\\u062f\\u0647 \\u0627\\u0633\\u062a \\u062a\\u0627 \\u0628\\u0627 \\u06cc\\u06a9\\u06cc \\u0627\\u0632 \\u062c\\u0630\\u0627\\u0628\\u200c\\u062a\\u0631\\u06cc\\u0646 \\u0644\\u067e\\u200c\\u062a\\u0627\\u067e\\u200c\\u0647\\u0627\\u06cc \\u062d\\u0627\\u0644 \\u062d\\u0627\\u0636\\u0631 \\u062f\\u0646\\u06cc\\u0627 \\u0622\\u0634\\u0646\\u0627 \\u0634\\u0648\\u06cc\\u062f. \\u062f\\u0631 \\u0628\\u062e\\u0634 \\u0645\\u062d\\u0635\\u0648\\u0644\\u0627\\u062a \\u0632\\u0648\\u0645\\u06cc\\u062a \\u0645\\u06cc\\u200c\\u062a\\u0648\\u0627\\u0646\\u06cc\\u062f \\n\\u0642\\u06cc\\u0645\\u062a \\u0644\\u067e \\u062a\\u0627\\u067e \\u0633\\u0627\\u0645\\u0633\\u0648\\u0646\\u06af\\n \\u0648 \\n\\u0642\\u06cc\\u0645\\u062a \\u0644\\u067e \\u062a\\u0627\\u067e\\n \\u0628\\u0631\\u0646\\u062f\\u0647\\u0627\\u06cc \\u062f\\u06cc\\u06af\\u0631 \\u0631\\u0627 \\u0628\\u0628\\u06cc\\u0646\\u06cc\\u062f.\\n\\u06af\\u0644\\u06a9\\u0633\\u06cc \\u0628\\u0648\\u06a9 \\u06f3 \\u0627\\u0648\\u0644\\u062a\\u0631\\u0627 \\u0631\\u0627 \\n\\u0641\\u0631\\u0648\\u0634\\u06af\\u0627\\u0647 \\u0627\\u06cc\\u0646\\u062a\\u0631\\u0646\\u062a\\u06cc \\u0633\\u0631\\u0641\\u06cc\\u0633\\u200c\\u06a9\\u0627\\u0631\\n \\u0628\\u0631\\u0627\\u06cc \\u0628\\u0631\\u0631\\u0633\\u06cc \\u062f\\u0631 \\u0627\\u062e\\u062a\\u06cc\\u0627\\u0631 \\u0632\\u0648\\u0645\\u06cc\\u062a \\u0642\\u0631\\u0627\\u0631 \\u062f\\u0627\\u062f.\",\n          \"\\u0631\\u0642\\u0627\\u0628\\u062a \\u062f\\u0631 \\u0635\\u0646\\u0639\\u062a \\u06af\\u0648\\u0634\\u06cc\\u200c\\u0647\\u0627\\u06cc \\u0647\\u0648\\u0634\\u0645\\u0646\\u062f \\u0628\\u0633\\u06cc\\u0627\\u0631 \\u0634\\u062f\\u06cc\\u062f \\u0627\\u0633\\u062a \\u0648 \\u0627\\u0641\\u0632\\u0627\\u06cc\\u0634 \\u0633\\u0631\\u0639\\u062a\\u200c \\u0634\\u0627\\u0631\\u0698 \\u06cc\\u06a9\\u06cc \\u0627\\u0632 \\u0648\\u06cc\\u0698\\u06af\\u06cc\\u200c\\u0647\\u0627\\u06cc  \\u0645\\u062b\\u0628\\u062a \\u0628\\u0631\\u0627\\u06cc \\u06af\\u0648\\u0634\\u06cc\\u200c\\u0647\\u0627\\u06cc \\u0647\\u0648\\u0634\\u0645\\u0646\\u062f \\u0642\\u0644\\u0645\\u062f\\u0627\\u062f \\u0645\\u06cc\\u200c\\u0634\\u0648\\u062f \\u062a\\u0627\\u062c\\u0627\\u06cc\\u06cc \\u06a9\\u0647 \\u062f\\u0631 \\u0628\\u0631\\u062e\\u06cc \\u0645\\u062f\\u0644\\u200c\\u0647\\u0627 \\u0634\\u0627\\u0647\\u062f \\u0627\\u0633\\u062a\\u0641\\u0627\\u062f\\u0647 \\u0627\\u0632 \\u0634\\u0627\\u0631\\u0698\\u0631 \\u06f2\\u06f4\\u06f0 \\u0648\\u0627\\u062a\\u06cc \\u0647\\u0633\\u062a\\u06cc\\u0645. \\u062d\\u0627\\u0644 \\u06af\\u0648\\u06af\\u0644 \\u0642\\u0635\\u062f \\u062f\\u0627\\u0631\\u062f \\u062f\\u0631 \\u0627\\u0646\\u062f\\u0631\\u0648\\u06cc\\u062f \\u06f1\\u06f5 \\u0627\\u0633\\u062a\\u0627\\u0646\\u062f\\u0627\\u0631\\u062f\\u0647\\u0627\\u06cc \\u0634\\u0627\\u0631\\u0698 \\u06af\\u0648\\u0634\\u06cc \\u0631\\u0627 \\n\\u062a\\u063a\\u06cc\\u06cc\\u0631 \\u062f\\u0647\\u062f\\n.\\n\\u0628\\u062f\\u0648\\u0646 \\u0648\\u062c\\u0648\\u062f \\u0647\\u06cc\\u0686 \\u0646\\u0634\\u0627\\u0646\\u06af\\u0631 \\u0628\\u0635\\u0631\\u06cc \\u062f\\u0631 \\u0631\\u0627\\u0628\\u0637 \\u06a9\\u0627\\u0631\\u0628\\u0631\\u06cc\\u060c \\u0627\\u06a9\\u062b\\u0631 \\u06a9\\u0627\\u0631\\u0628\\u0631\\u0627\\u0646 \\u0646\\u0645\\u06cc\\u200c\\u062f\\u0627\\u0646\\u0646\\u062f \\u06a9\\u0647 \\u0633\\u0631\\u0639\\u062a \\u0634\\u0627\\u0631\\u0698 \\u0648\\u0627\\u0642\\u0639\\u06cc \\u06af\\u0648\\u0634\\u06cc \\u0686\\u0642\\u062f\\u0631 \\u0627\\u0633\\u062a. \\u0627\\u0646\\u062f\\u0631\\u0648\\u06cc\\u062f \\u0647\\u0646\\u06af\\u0627\\u0645 \\u062a\\u0634\\u062e\\u06cc\\u0635 \\u0634\\u0627\\u0631\\u0698\\u0631 \\u0633\\u0631\\u06cc\\u0639\\u060c \\u067e\\u06cc\\u0627\\u0645\\u06cc \\u06a9\\u0648\\u0686\\u06a9 \\u062f\\u0631 \\u067e\\u0627\\u06cc\\u06cc\\u0646 \\u0635\\u0641\\u062d\\u0647\\u200c\\u0642\\u0641\\u0644 \\u0646\\u0645\\u0627\\u06cc\\u0634 \\u0645\\u06cc\\u200c\\u062f\\u0647\\u062f.\\n\\u0645\\u0634\\u06a9\\u0644 \\u0627\\u06cc\\u0646 \\u0627\\u0633\\u062a \\u06a9\\u0647 \\u0627\\u0646\\u062f\\u0631\\u0648\\u06cc\\u062f \\u0647\\u0631 \\u0634\\u0627\\u0631\\u0698\\u0631\\u06cc \\u0631\\u0627 \\u06a9\\u0647 \\u062d\\u062f\\u0627\\u0642\\u0644 \\u06f7\\u066b\\u06f5 \\u0648\\u0627\\u062a \\u0628\\u0631\\u0642 \\u0631\\u0627 \\u062a\\u0623\\u0645\\u06cc\\u0646 \\u06a9\\u0646\\u062f\\u060c \\u0628\\u0647 \\u0639\\u0646\\u0648\\u0627\\u0646 \\u00ab\\u0633\\u0631\\u06cc\\u0639\\u00bb \\u062f\\u0631\\u0646\\u0638\\u0631 \\u0645\\u06cc\\u200c\\u06af\\u06cc\\u0631\\u062f. \\u0627\\u06cc\\u0646 \\u0628\\u0627\\u0639\\u062b \\u0645\\u06cc\\u200c\\u0634\\u0648\\u062f \\u062a\\u0634\\u062e\\u06cc\\u0635 \\u0627\\u06cc\\u0646\\u06a9\\u0647 \\u0622\\u06cc\\u0627 \\u06cc\\u06a9 \\u0634\\u0627\\u0631\\u0698\\u0631 \\u062e\\u0627\\u0635\\u060c \\u0645\\u0627\\u0646\\u0646\\u062f \\u062f\\u0631\\u06af\\u0627\\u0647 USB \\u0644\\u067e\\u200c\\u062a\\u0627\\u067e\\u060c \\u0648\\u0627\\u0642\\u0639\\u0627\\u064b \\u06af\\u0648\\u0634\\u06cc \\u0634\\u0645\\u0627 \\u0631\\u0627 \\u0628\\u0647\\u200c\\u0633\\u0631\\u0639\\u062a \\u0634\\u0627\\u0631\\u0698 \\u0645\\u06cc\\u200c\\u06a9\\u0646\\u062f \\u06cc\\u0627 \\u062e\\u06cc\\u0631\\u060c \\u062f\\u0634\\u0648\\u0627\\u0631 \\u0628\\u0627\\u0634\\u062f. \\n\\u06af\\u0648\\u06af\\u0644 \\u062f\\u0631 \\u0628\\u0647\\u200c\\u0631\\u0648\\u0632\\u0631\\u0633\\u0627\\u0646\\u06cc \\u0627\\u0646\\u062f\\u0631\\u0648\\u06cc\\u062f \\u06f1\\u06f5 \\u0642\\u0635\\u062f \\u062f\\u0627\\u0631\\u062f \\u0628\\u0627 \\u062a\\u0646\\u0638\\u06cc\\u0645 \\u062d\\u062f \\u0622\\u0633\\u062a\\u0627\\u0646\\u0647\\u200c\\u0627\\u06cc \\u062c\\u062f\\u06cc\\u062f\\u060c \\u0633\\u0631\\u06cc\\u0639\\u200c \\u0628\\u0648\\u062f\\u0646 \\u06cc\\u0627 \\u0646\\u0628\\u0648\\u062f\\u0646 \\u0633\\u0631\\u0639\\u062a \\u0634\\u0627\\u0631\\u0698 \\u0631\\u0627 \\u0645\\u0634\\u062e\\u0635 \\u06a9\\u0646\\u062f. \\u062f\\u0631\\u062d\\u0627\\u0644\\u200c\\u062d\\u0627\\u0636\\u0631\\u060c \\u062a\\u0634\\u062e\\u06cc\\u0635 \\u0633\\u0631\\u0639\\u062a \\u0634\\u0627\\u0631\\u0698\\u0631 \\u0628\\u0627 \\u0633\\u0647 \\u0639\\u0646\\u0648\\u0627\\u0646 \\u06a9\\u0646\\u062f (Slow)\\u060c \\u0639\\u0627\\u062f\\u06cc (Normal) \\u06cc\\u0627 \\u0633\\u0631\\u06cc\\u0639 (Fast) \\u0627\\u0646\\u062c\\u0627\\u0645 \\u0645\\u06cc\\u200c\\u0634\\u0648\\u062f. \\n\\u0627\\u06af\\u0631 \\u062a\\u0648\\u0627\\u0646 \\u062e\\u0631\\u0648\\u062c\\u06cc \\u06a9\\u0647 \\u0628\\u0647 \\u06af\\u0648\\u0634\\u06cc \\u0645\\u06cc\\u200c\\u0631\\u0633\\u062f \\u06a9\\u0645\\u062a\\u0631 \\u0627\\u0632 \\u06f5 \\u0648\\u0627\\u062a\\u060c \\u0645\\u0627\\u0628\\u06cc\\u0646 \\u06f5 \\u062a\\u0627 \\u06f7\\u066b\\u06f5 \\u0648 \\u06cc\\u0627 \\u0628\\u06cc\\u0634 \\u0627\\u0632 \\u06f7\\u066b\\u06f5 \\u0628\\u0627\\u0634\\u062f\\u060c \\u0628\\u0647 \\u062a\\u0631\\u062a\\u06cc\\u0628 \\u0634\\u0627\\u0631\\u0698\\u0631 \\u06a9\\u0646\\u062f\\u060c \\u0639\\u0627\\u062f\\u06cc \\u0648 \\u0633\\u0631\\u06cc\\u0639 \\u062f\\u0631 \\u0646\\u0638\\u0631 \\u06af\\u0631\\u0641\\u062a\\u0647 \\u0645\\u06cc\\u200c\\u0634\\u0648\\u062f \\u0648 \\u067e\\u06cc\\u0627\\u0645 Charging Slowly \\u0648 Charging \\u0648 Charging Rapidly \\u0631\\u0648\\u06cc \\u0635\\u0641\\u062d\\u0647\\u200c\\u0642\\u0641\\u0644 \\u0646\\u0634\\u0627\\u0646 \\u062f\\u0627\\u062f\\u0647 \\u0645\\u06cc\\u200c\\u0634\\u0648\\u062f. \\u0627\\u06cc\\u0646\\u200c\\u0647\\u0627 \\u0645\\u0642\\u0627\\u062f\\u06cc\\u0631 \\u067e\\u06cc\\u0634 \\u0641\\u0631\\u0636 \\u062f\\u0631 \\u0633\\u06cc\\u0633\\u062a\\u0645\\u200c\\u0639\\u0627\\u0645\\u0644 \\u0627\\u0646\\u062f\\u0631\\u0648\\u06cc\\u062f \\u0645\\u062a\\u0646\\u200c\\u0628\\u0627\\u0632 \\u0647\\u0633\\u062a\\u0646\\u062f \\u0648 \\u0628\\u0631\\u062e\\u0644\\u0627\\u0641 \\u0628\\u06cc\\u0634\\u062a\\u0631 \\u062a\\u0648\\u0644\\u06cc\\u062f\\u06a9\\u0646\\u0646\\u062f\\u06af\\u0627\\u0646 \\u06af\\u0648\\u0634\\u06cc\\u060c \\u0647\\u0646\\u0648\\u0632  \\u0628\\u0631\\u0627\\u06cc \\u0633\\u0631\\u06cc \\n\\u06af\\u0648\\u0634\\u06cc \\u067e\\u06cc\\u06a9\\u0633\\u0644 \\n\\u062a\\u063a\\u06cc\\u06cc\\u0631 \\u0646\\u06a9\\u0631\\u062f\\u0647\\u200c\\u0627\\u0646\\u062f. \\n\\u06af\\u0648\\u06af\\u0644 \\u0642\\u0635\\u062f \\u062f\\u0627\\u0631\\u062f \\u0622\\u0633\\u062a\\u0627\\u0646\\u0647\\u200c\\u06cc \\u0634\\u0627\\u0631\\u0698 \\u0633\\u0631\\u06cc\\u0639 \\u0631\\u0627 \\u0627\\u0632 \\u06f7\\u066b\\u06f5 \\u0648\\u0627\\u062a \\u0628\\u0647 \\u06f2\\u06f0 \\u0648\\u0627\\u062a \\u0627\\u0641\\u0632\\u0627\\u06cc\\u0634 \\u062f\\u0647\\u062f. \\u0627\\u06cc\\u0646 \\u0645\\u0648\\u0636\\u0648\\u0639 \\u062f\\u0631 \\u0622\\u062e\\u0631\\u06cc\\u0646 \\u0628\\u0647\\u200c\\u0631\\u0648\\u0632\\u0631\\u0633\\u0627\\u0646\\u06cc \\u0628\\u062a\\u0627\\u06cc \\u0627\\u0646\\u062f\\u0631\\u0648\\u06cc\\u062f \\u06f1\\u06f5 \\u0631\\u0648\\u06cc \\u06f2\\u06f0\\u066c\\u06f0\\u06f0\\u06f0\\u066c\\u06f0\\u06f0\\u06f0 \\u0645\\u06cc\\u06a9\\u0631\\u0648\\u0648\\u0627\\u062a (\\u06f2\\u06f0 \\u0648\\u0627\\u062a) \\u0628\\u0647 \\u0639\\u0646\\u0648\\u0627\\u0646 \\u067e\\u06cc\\u06a9\\u0631\\u0628\\u0646\\u062f\\u06cc \\u062c\\u062f\\u06cc\\u062f \\u062a\\u0646\\u0638\\u06cc\\u0645 \\u0634\\u062f\\u0647 \\u0627\\u0633\\u062a.\\n\\u0646\\u0633\\u062e\\u0647\\u200c\\u06cc \\u0628\\u062a\\u0627\\u06cc \\u06a9\\u0646\\u0648\\u0646\\u06cc \\u0627\\u0646\\u062f\\u0631\\u0648\\u06cc\\u062f \\u0647\\u0646\\u0648\\u0632 \\u0627\\u0632 \\u0622\\u0633\\u062a\\u0627\\u0646\\u0647\\u200c\\u06cc \\u0634\\u0627\\u0631\\u0698 \\u0628\\u0627\\u0644\\u0627\\u062a\\u0631 \\u0627\\u0633\\u062a\\u0641\\u0627\\u062f\\u0647 \\u0646\\u0645\\u06cc\\u200c\\u06a9\\u0646\\u062f \\u0648 \\u0628\\u0647\\u200c\\u0631\\u0648\\u0632 \\u0646\\u0634\\u062f\\u0647 \\u0627\\u0633\\u062a. \\u0628\\u0647 \\u0627\\u062d\\u062a\\u0645\\u0627\\u0644 \\u0632\\u06cc\\u0627\\u062f \\u062f\\u0631 \\u0646\\u0633\\u062e\\u0647\\u200c\\u0647\\u0627\\u06cc \\u0628\\u0639\\u062f\\u06cc \\u0628\\u062a\\u0627\\u06cc \\u0627\\u0646\\u062f\\u0631\\u0648\\u06cc\\u062f \\u06f1\\u06f5\\u060c \\u06af\\u0648\\u06af\\u0644 BatteryStatus \\u0631\\u0627 \\u0628\\u0631\\u0627\\u06cc \\u062e\\u0648\\u0627\\u0646\\u062f\\u0646 \\u0645\\u0642\\u062f\\u0627\\u0631 \\u0622\\u0633\\u062a\\u0627\\u0646\\u0647\\u200c\\u06cc \\u062c\\u062f\\u06cc\\u062f \\u0628\\u0647\\u200c\\u0631\\u0648\\u0632\\u0631\\u0633\\u0627\\u0646\\u06cc \\u062e\\u0648\\u0627\\u0647\\u062f \\u06a9\\u0631\\u062f.\\n\\u0628\\u0627 \\u0627\\u06cc\\u0646\\u06a9\\u0647 \\u06af\\u0648\\u0634\\u06cc \\n\\u067e\\u06cc\\u06a9\\u0633\\u0644 \\u06f8\\n \\u0648 \\n\\u067e\\u06cc\\u06a9\\u0633\\u0644 \\u06f8 \\u067e\\u0631\\u0648\\n \\u0627\\u0632 \\u0634\\u0627\\u0631\\u0698 \\u0633\\u06cc\\u0645\\u06cc \\u06f2\\u06f7 \\u0648 \\u06f3\\u06f0 \\u0648\\u0627\\u062a\\u06cc \\u0628\\u0647\\u0631\\u0647 \\u0645\\u06cc\\u200c\\u0628\\u0631\\u0646\\u062f\\u060c \\u0627\\u0645\\u0627 \\u0628\\u0647\\u200c\\u062f\\u0644\\u06cc\\u0644 \\u0639\\u062f\\u0645 \\u062a\\u0645\\u0627\\u06cc\\u0632 \\u0635\\u062d\\u06cc\\u062d \\u0633\\u0631\\u0639\\u062a \\u0634\\u0627\\u0631\\u0698\\u060c \\u0627\\u0645\\u06a9\\u0627\\u0646 \\u0645\\u0634\\u0627\\u0647\\u062f\\u0647\\u200c\\u06cc \\u0633\\u0631\\u0639\\u062a \\u0634\\u0627\\u0631\\u0698 \\u062f\\u0642\\u06cc\\u0642 \\u0648\\u062c\\u0648\\u062f \\u0646\\u062f\\u0627\\u0631\\u062f\\u061b \\u0628\\u0627 \\u0627\\u06cc\\u0646 \\u0628\\u0647\\u200c\\u0631\\u0648\\u0632\\u0631\\u0633\\u0627\\u0646\\u06cc \\u0627\\u06cc\\u0646 \\u0645\\u0648\\u0636\\u0648\\u0639 \\u0627\\u0635\\u0644\\u0627\\u062d \\u0645\\u06cc\\u200c\\u0634\\u0648\\u062f.\",\n          \"\\u0628\\u0639\\u0636\\u06cc \\u0645\\u0648\\u0627\\u0642\\u0639 \\u0628\\u0631\\u0627\\u06cc \\u062f\\u0633\\u062a\\u0631\\u0633\\u06cc \\u0622\\u0633\\u0627\\u0646\\u200c \\u0648 \\u0622\\u0641\\u0644\\u0627\\u06cc\\u0646 \\u0628\\u0647 \\u0648\\u06cc\\u062f\\u0626\\u0648\\u0647\\u0627\\u06cc \\u06cc\\u0648\\u062a\\u06cc\\u0648\\u0628 \\u0628\\u0647\\u062a\\u0631 \\u0627\\u0633\\u062a \\u0622\\u0646\\u200c\\u0647\\u0627 \\u0631\\u0627 \\u062f\\u0627\\u0646\\u0644\\u0648\\u062f \\u06a9\\u0646\\u06cc\\u0645\\u061b \\u0627\\u0645\\u0627 \\u0686\\u06af\\u0648\\u0646\\u0647 \\u0645\\u06cc\\u200c\\u062a\\u0648\\u0627\\u0646 \\u0627\\u06cc\\u0646\\u06a9\\u0627\\u0631 \\u0631\\u0627 \\u0627\\u0646\\u062c\\u0627\\u0645 \\u062f\\u0627\\u062f\\u061f\\n\\u0628\\u0627\\u0648\\u062c\\u0648\\u062f \\u0646\\u0642\\u0634 \\u0628\\u0633\\u06cc\\u0627\\u0631 \\u0645\\u0647\\u0645\\u06cc \\u06a9\\u0647 \\u06cc\\u0648\\u062a\\u06cc\\u0648\\u0628 \\u062f\\u0631 \\u0622\\u0645\\u0648\\u0632\\u0634 \\u0622\\u0646\\u0644\\u0627\\u06cc\\u0646 \\u0648 \\u06a9\\u0633\\u0628\\u200c\\u0648\\u200c\\u06a9\\u0627\\u0631\\u0647\\u0627 \\u062f\\u0627\\u0631\\u062f\\u060c \\u0628\\u0647 \\u06a9\\u0627\\u0631\\u0628\\u0631\\u0627\\u0646 \\u0628\\u062f\\u0648\\u0646 \\u0627\\u0634\\u062a\\u0631\\u0627\\u06a9 \\u0627\\u0645\\u06a9\\u0627\\u0646 \\u062f\\u0627\\u0646\\u0644\\u0648\\u062f \\u0645\\u0633\\u062a\\u0642\\u06cc\\u0645 \\u0648\\u06cc\\u062f\\u0626\\u0648\\u0647\\u0627\\u06cc \\u0645\\u0648\\u062c\\u0648\\u062f \\u0631\\u0627 \\u0646\\u0645\\u06cc\\u200c\\u062f\\u0647\\u062f \\u0648 \\u06af\\u0632\\u06cc\\u0646\\u0647\\u200c\\u06cc \\u062f\\u0627\\u0646\\u0644\\u0648\\u062f \\u0631\\u0627 \\u062a\\u0646\\u0647\\u0627 \\u0628\\u0631\\u0627\\u06cc \\u06a9\\u0627\\u0631\\u0628\\u0631\\u0627\\u0646 \\n\\u06cc\\u0648\\u062a\\u06cc\\u0648\\u0628 \\u067e\\u0631\\u06cc\\u0645\\u06cc\\u0648\\u0645\\n \\u062f\\u0631 \\u062f\\u0633\\u062a\\u0631\\u0633 \\u0642\\u0631\\u0627\\u0631 \\u0645\\u06cc\\u200c\\u062f\\u0647\\u062f. \\u062f\\u0631 \\u0627\\u062f\\u0627\\u0645\\u0647 \\u0646\\u062d\\u0648\\u0647\\u200c\\u06cc \\u062f\\u0627\\u0646\\u0644\\u0648\\u062f \\u0627\\u0632 \\u06cc\\u0648\\u062a\\u06cc\\u0648\\u0628 \\u062f\\u0631 \\u062f\\u0633\\u062a\\u06af\\u0627\\u0647\\u200c\\u0647\\u0627\\u06cc \\u0645\\u062e\\u062a\\u0644\\u0641 \\u0627\\u0632 \\u062c\\u0645\\u0644\\u0647 \\u0648\\u06cc\\u0646\\u062f\\u0648\\u0632\\u060c \\u0622\\u06cc\\u0641\\u0648\\u0646 \\u0648 \\u0627\\u0646\\u062f\\u0631\\u0648\\u06cc\\u062f \\u0631\\u0627 \\u0634\\u0631\\u062d \\u0645\\u06cc\\u200c\\u062f\\u0647\\u06cc\\u0645.\\n\\u0628\\u0631\\u062e\\u06cc \\u06a9\\u0627\\u0631\\u0628\\u0631\\u0627\\u0646\\u060c \\u0627\\u0633\\u062a\\u0641\\u0627\\u062f\\u0647 \\u0627\\u0632 \\u0646\\u0631\\u0645\\u200c\\u0627\\u0641\\u0632\\u0627\\u0631\\u0647\\u0627 \\u0631\\u0627 \\u0628\\u0631\\u0627\\u06cc \\u062f\\u0627\\u0646\\u0644\\u0648\\u062f \\u0648\\u06cc\\u062f\\u0626\\u0648\\u200c\\u0647\\u0627\\u06cc \\u06cc\\u0648\\u062a\\u06cc\\u0648\\u0628 \\u062f\\u0631 \\u06a9\\u0627\\u0645\\u067e\\u06cc\\u0648\\u062a\\u0631 \\u0628\\u0647 \\u0631\\u0648\\u0634\\u200c\\u0647\\u0627\\u06cc \\u0622\\u0646\\u0644\\u0627\\u06cc\\u0646 \\u062a\\u0631\\u062c\\u06cc\\u062d \\u0645\\u06cc\\u200c\\u062f\\u0647\\u0646\\u062f. \\u0628\\u0631\\u0627\\u06cc \\u0627\\u06cc\\u0646 \\u062f\\u0633\\u062a\\u0647 \\u0627\\u0632 \\u06a9\\u0627\\u0631\\u0628\\u0631\\u0627\\u0646 \\u06af\\u0632\\u06cc\\u0646\\u0647\\u200c\\u0647\\u0627\\u06cc \\u0645\\u062a\\u0639\\u062f\\u062f\\u06cc \\u0648\\u062c\\u0648\\u062f \\u062f\\u0627\\u0631\\u062f \\u0648 \\u0645\\u06cc\\u200c\\u062a\\u0648\\u0627\\u0646\\u0646\\u062f \\u0628\\u0627 \\u06cc\\u06a9 \\u0628\\u0627\\u0631 \\u0646\\u0635\\u0628 \\u0646\\u0631\\u0645\\u200c\\u0627\\u0641\\u0632\\u0627\\u0631\\u060c \\u0647\\u0631 \\u0648\\u06cc\\u062f\\u06cc\\u0648\\u06cc\\u06cc \\u0631\\u0627\\n \\u0627\\u0632 \\u06cc\\u0648\\u062a\\u06cc\\u0648\\u0628 \\u062f\\u0627\\u0646\\u0644\\u0648\\u062f \\u06a9\\u0646\\u0646\\u062f. \\u0627\\u067e\\u0644\\u06cc\\u06a9\\u06cc\\u0634\\u0646 4K Video Downloader \\u06a9\\u0647 \\u062f\\u0631 \\u0627\\u062f\\u0627\\u0645\\u0647 \\u0631\\u0648\\u0634 \\u0627\\u0633\\u062a\\u0641\\u0627\\u062f\\u0647 \\u0627\\u0632 \\u0622\\u0646 \\u0631\\u0627 \\u062a\\u0648\\u0636\\u06cc\\u062d \\u0645\\u06cc\\u200c\\u062f\\u0647\\u06cc\\u0645\\u060c \\u06cc\\u06a9\\u06cc \\u0627\\u0632 \\u0628\\u0647\\u062a\\u0631\\u06cc\\u0646\\u200c \\u0628\\u0631\\u0646\\u0627\\u0645\\u0647\\u200c\\u0647\\u0627\\u06cc \\u0645\\u0648\\u062c\\u0648\\u062f \\u0628\\u0631\\u0627\\u06cc \\u062f\\u0627\\u0646\\u0644\\u0648\\u062f \\u0627\\u0632 \\u06cc\\u0648\\u062a\\u06cc\\u0648\\u0628 \\u0628\\u0647\\u200c\\u0634\\u0645\\u0627\\u0631 \\u0645\\u06cc\\u200c\\u0631\\u0648\\u062f.\\n\\u0628\\u0631\\u0627\\u06cc \\u062f\\u0627\\u0646\\u0644\\u0648\\u062f \\u0648\\u06cc\\u062f\\u06cc\\u0648 \\u0627\\u0632 \\u0637\\u0631\\u06cc\\u0642 4K Video Downloader\\u060c \\u0627\\u0628\\u062a\\u062f\\u0627 \\u0648\\u0627\\u0631\\u062f \\u0648\\u0628\\u200c\\u0633\\u0627\\u06cc\\u062a \\u0622\\u0646 \\u0634\\u0648\\u06cc\\u062f \\u0648 \\u0646\\u0631\\u0645\\u200c\\u0627\\u0641\\u0632\\u0627\\u0631 \\u0631\\u0627 \\u062f\\u0627\\u0646\\u0644\\u0648\\u062f \\u06a9\\u0646\\u06cc\\u062f. \\u067e\\u0633 \\u0627\\u0632 \\u0646\\u0635\\u0628 \\u0648 \\u0627\\u062c\\u0631\\u0627\\u06cc \\u0628\\u0631\\u0646\\u0627\\u0645\\u0647 \\u0645\\u06cc\\u200c\\u062a\\u0648\\u0627\\u0646\\u06cc\\u062f \\u062f\\u0627\\u0646\\u0644\\u0648\\u062f \\u0648\\u06cc\\u062f\\u06cc\\u0648\\u0647\\u0627\\u06cc \\u062f\\u0644\\u062e\\u0648\\u0627\\u0647\\u062a\\u0627\\u0646 \\u0631\\u0627 \\u0622\\u063a\\u0627\\u0632 \\u06a9\\u0646\\u06cc\\u062f.\\n\\u0639\\u0644\\u0627\\u0648\\u0647\\u200c\\u0628\\u0631 \\u0646\\u0631\\u0645\\u200c\\u0627\\u0641\\u0632\\u0627\\u0631\\u0647\\u0627\\u06cc \\u062f\\u0627\\u0646\\u0644\\u0648\\u062f \\u0627\\u0632 \\u06cc\\u0648\\u062a\\u06cc\\u0648\\u0628 \\u06a9\\u0647 \\u0628\\u0647 \\u0646\\u0635\\u0628 \\u0646\\u06cc\\u0627\\u0632 \\u062f\\u0627\\u0631\\u0646\\u062f\\u060c \\u0645\\u06cc\\u200c\\u062a\\u0648\\u0627\\u0646 \\u0627\\u0632 \\u0627\\u0628\\u0632\\u0627\\u0631\\u0647\\u0627\\u06cc \\u0645\\u0628\\u062a\\u0646\\u06cc\\u200c\\u0628\\u0631 \\u0648\\u0628 \\u0646\\u06cc\\u0632 \\u0628\\u0631\\u0627\\u06cc \\u062f\\u0627\\u0646\\u0644\\u0648\\u062f \\u0648\\u06cc\\u062f\\u06cc\\u0648\\u0647\\u0627 \\u0627\\u0633\\u062a\\u0641\\u0627\\u062f\\u0647 \\u06a9\\u0631\\u062f. \\u0648\\u0628\\u200c\\u0633\\u0627\\u06cc\\u062a\\u200c\\u0647\\u0627\\u06cc AceThinker \\u0648 U2Convert \\u0648 Y2mate \\u0627\\u0632 \\u0628\\u0647\\u062a\\u0631\\u06cc\\u0646 \\u0627\\u0628\\u0632\\u0627\\u0631\\u0647\\u0627\\u06cc \\u0622\\u0646\\u0644\\u0627\\u06cc\\u0646\\u06cc \\u0647\\u0633\\u062a\\u0646\\u062f \\u06a9\\u0647 \\u0645\\u06cc\\u200c\\u062a\\u0648\\u0627\\u0646\\u06cc\\u062f \\u0628\\u0631\\u0627\\u06cc \\u062f\\u0627\\u0646\\u0644\\u0648\\u062f \\u0648\\u06cc\\u062f\\u06cc\\u0648 \\u0627\\u0632 \\u0622\\u0646\\u200c\\u0647\\u0627 \\u06a9\\u0645\\u06a9 \\u0628\\u06af\\u06cc\\u0631\\u06cc\\u062f. \\u0627\\u06cc\\u0646 \\u0648\\u0628\\u200c\\u200c\\u0633\\u0627\\u06cc\\u062a\\u200c\\u0647\\u0627 \\u0645\\u0639\\u0645\\u0648\\u0644\\u0627\\u064b \\u0639\\u0645\\u0644\\u06a9\\u0631\\u062f \\u06cc\\u06a9\\u0633\\u0627\\u0646\\u06cc \\u062f\\u0627\\u0631\\u0646\\u062f\\u061b\\u200c \\u0627\\u0632\\u0627\\u06cc\\u0646\\u200c\\u0631\\u0648 \\u062f\\u0631 \\u0627\\u062f\\u0627\\u0645\\u0647 \\u062a\\u0646\\u0647\\u0627 \\u0631\\u0648\\u0634 \\u062f\\u0627\\u0646\\u0644\\u0648\\u062f \\u0627\\u0632 \\u0648\\u0628\\u200c\\u0633\\u0627\\u06cc\\u062a AceThinker \\u0631\\u0627 \\u0634\\u0631\\u062d \\u0645\\u06cc\\u200c\\u062f\\u0647\\u06cc\\u0645.\\n\\u0627\\u0628\\u0632\\u0627\\u0631 \\u0622\\u0646\\u0644\\u0627\\u06cc\\u0646 AceThinker \\u0628\\u0647 \\u0634\\u0645\\u0627 \\u0627\\u0645\\u06a9\\u0627\\u0646 \\u0645\\u06cc\\u200c\\u062f\\u0647\\u062f \\u0648\\u06cc\\u062f\\u0626\\u0648\\u0647\\u0627 \\u0631\\u0627 \\u0627\\u0632 \\u0648\\u0628\\u200c\\u0633\\u0627\\u06cc\\u062a\\u200c\\u0647\\u0627\\u06cc \\u0645\\u062e\\u062a\\u0644\\u0641 (\\u06cc\\u0648\\u062a\\u06cc\\u0648\\u0628\\u060c \\u0648\\u06cc\\u0645\\u0626\\u0648 \\u0648...) \\u0628\\u062f\\u0648\\u0646 \\u0645\\u062d\\u062f\\u0648\\u062f\\u06cc\\u062a \\u0648 \\u0628\\u0647\\u200c\\u0635\\u0648\\u0631\\u062a \\u0631\\u0627\\u06cc\\u06af\\u0627\\u0646 \\u062f\\u0627\\u0646\\u0644\\u0648\\u062f \\u06a9\\u0646\\u06cc\\u062f. \\u0627\\u06cc\\u0646 \\u0627\\u0628\\u0632\\u0627\\u0631 \\u0645\\u0628\\u062a\\u0646\\u06cc\\u200c\\u0628\\u0631 \\u0648\\u0628 \\u0628\\u0627 \\u0647\\u0645\\u0647\\u200c\\u06cc \\u0645\\u0631\\u0648\\u0631\\u06af\\u0631\\u0647\\u0627 \\u0627\\u0632 \\u062c\\u0645\\u0644\\u0647 \\u0633\\u0627\\u0641\\u0627\\u0631\\u06cc \\u0648 \\u0627\\u062c \\u0648 \\u06a9\\u0631\\u0648\\u0645 \\u0633\\u0627\\u0632\\u06af\\u0627\\u0631\\u06cc \\u062f\\u0627\\u0631\\u062f.\\n\\u0627\\u06af\\u0631 \\u0627\\u0632 \\u06a9\\u0627\\u0631\\u0628\\u0631\\u0627\\u0646\\u06cc \\u0647\\u0633\\u062a\\u06cc\\u062f \\u06a9\\u0647 \\u0627\\u067e\\u0644\\u06cc\\u06a9\\u06cc\\u0634\\u0646\\u200c\\u0647\\u0627 \\u0631\\u0627 \\u0628\\u0647 \\u0633\\u0631\\u0648\\u06cc\\u0633\\u200c\\u0647\\u0627\\u06cc \\u062a\\u062d\\u062a \\u0648\\u0628 \\u062a\\u0631\\u062c\\u06cc\\u062d\\u200c \\u0645\\u06cc\\u200c\\u062f\\u0647\\u06cc\\u062f\\u060c \\u062a\\u0648\\u0635\\u06cc\\u0647\\u200c\\u06cc \\u0645\\u0627 \\u0627\\u0633\\u062a\\u0641\\u0627\\u062f\\u0647 \\u0627\\u0632 \\u0628\\u0631\\u0646\\u0627\\u0645\\u0647\\u200c\\u06cc NewPipe\\u060c \\u06cc\\u06a9\\u06cc \\u0627\\u0632 \\u0645\\u062d\\u0628\\u0648\\u0628\\u200c\\u062a\\u0631\\u06cc\\u0646 \\u0627\\u067e\\u0644\\u06cc\\u06a9\\u06cc\\u0634\\u0646\\u200c\\u0647\\u0627\\u06cc \\u0645\\u0648\\u062c\\u0648\\u062f \\u0627\\u0633\\u062a \\u06a9\\u0647 \\u0627\\u0644\\u0628\\u062a\\u0647 \\u0627\\u067e\\u0644\\u06cc\\u06a9\\u06cc\\u0634\\u0646 \\u0622\\u0646 \\u0628\\u0647\\u200c\\u0635\\u0648\\u0631\\u062a \\u0631\\u0633\\u0645\\u06cc \\u062f\\u0631 \\u067e\\u0644\\u06cc \\u0627\\u0633\\u062a\\u0648\\u0631 \\u0645\\u0648\\u062c\\u0648\\u062f \\u0646\\u06cc\\u0633\\u062a\\u061b \\u0627\\u0645\\u0627 \\u0645\\u06cc\\u200c\\u062a\\u0648\\u0627\\u0646\\u06cc\\u062f \\u0627\\u0632 \\u0637\\u0631\\u06cc\\u0642 \\u0644\\u06cc\\u0646\\u06a9 \\u0632\\u06cc\\u0631\\u060c \\u0622\\u0646 \\u0631\\u0627 \\u062f\\u0627\\u0646\\u0644\\u0648\\u062f \\u06a9\\u0646\\u06cc\\u062f.\\n \\u062f\\u0631\\u0627\\u0646\\u062a\\u0647\\u0627 \\u0645\\u06cc\\u200c\\u062a\\u0648\\u0627\\u0646\\u06cc\\u062f \\u0641\\u0647\\u0631\\u0633\\u062a \\u0648\\u06cc\\u062f\\u06cc\\u0648\\u0647\\u0627\\u06cc \\u062f\\u0627\\u0646\\u0644\\u0648\\u062f\\u0634\\u062f\\u0647 \\u06cc\\u0627 \\u062f\\u0631 \\u062d\\u0627\\u0644 \\u062f\\u0627\\u0646\\u0644\\u0648\\u062f \\u0631\\u0627 \\u062f\\u0631 \\u0628\\u062e\\u0634 Settings \\u0648 \\u0633\\u067e\\u0633 Downloads \\u0645\\u0634\\u0627\\u0647\\u062f\\u0647 \\u06a9\\u0646\\u06cc\\u062f.\\n\\u0639\\u0644\\u0627\\u0648\\u0647\\u200c\\u0628\\u0631 \\u0631\\u0627\\u0647\\u06a9\\u0627\\u0631\\u0647\\u0627\\u06cc\\u06cc \\u0645\\u062b\\u0644 \\u0627\\u067e\\u0644\\u06cc\\u06a9\\u06cc\\u0634\\u0646\\u200c\\u0647\\u0627 \\u0648 \\u0633\\u0631\\u0648\\u06cc\\u0633\\u200c\\u0647\\u0627\\u06cc \\u0645\\u0628\\u062a\\u0646\\u06cc\\u200c\\u0628\\u0631 \\u0648\\u0628\\u060c \\u062a\\u0644\\u06af\\u0631\\u0627\\u0645 \\u0646\\u06cc\\u0632 \\u0645\\u06cc\\u200c\\u062a\\u0648\\u0627\\u0646\\u062f \\u0631\\u0648\\u0634 \\u0645\\u0646\\u0627\\u0633\\u0628\\u06cc \\u0628\\u0631\\u0627\\u06cc \\u062f\\u0627\\u0646\\u0644\\u0648\\u062f \\u0648\\u06cc\\u062f\\u06cc\\u0648 \\u0628\\u0627\\u0634\\u062f. \\u0627\\u067e\\u0644\\u06cc\\u06a9\\u06cc\\u0634\\u0646 \\u062a\\u0644\\u06af\\u0631\\u0627\\u0645 \\u062f\\u0627\\u0631\\u0627\\u06cc \\u0631\\u0628\\u0627\\u062a\\u200c\\u0647\\u0627\\u06cc \\u0645\\u062e\\u062a\\u0644\\u0641\\u06cc \\u0627\\u0633\\u062a \\u06a9\\u0647 \\u0628\\u0647\\u200c\\u0645\\u0646\\u0638\\u0648\\u0631 \\u062f\\u0627\\u0646\\u0644\\u0648\\u062f \\u0648\\u06cc\\u062f\\u0626\\u0648 \\u06cc\\u0627 \\u0645\\u0648\\u0633\\u06cc\\u0642\\u06cc \\u0627\\u06cc\\u062c\\u0627\\u062f \\u0634\\u062f\\u0647\\u200c\\u0627\\u0646\\u062f.\\n\\u0622\\u06cc\\u0641\\u0648\\u0646 \\u0628\\u0631\\u062e\\u0644\\u0627\\u0641 \\u06af\\u0648\\u0634\\u06cc\\u200c\\u0647\\u0627\\u06cc \\u0627\\u0646\\u062f\\u0631\\u0648\\u06cc\\u062f\\u06cc \\u0627\\u0645\\u06a9\\u0627\\u0646 \\u0630\\u062e\\u06cc\\u0631\\u0647\\u200c\\u200c\\u06cc \\u0645\\u0633\\u062a\\u0642\\u06cc\\u0645 \\u0648 \\u0622\\u0633\\u0627\\u0646 \\u0627\\u0632 \\u0637\\u0631\\u06cc\\u0642 \\u0627\\u067e\\u0644\\u06cc\\u06a9\\u06cc\\u0634\\u0646\\u200c\\u0647\\u0627 \\u0631\\u0627 \\u0646\\u062f\\u0627\\u0631\\u062f. \\u062f\\u0631\\u0648\\u0627\\u0642\\u0639 \\u0645\\u062d\\u062f\\u0648\\u062f\\u06cc\\u062a\\u200c\\u0647\\u0627\\u06cc \\u0633\\u06cc\\u0633\\u062a\\u0645\\u200c\\u0639\\u0627\\u0645\\u0644 iOS \\u0627\\u0645\\u06a9\\u0627\\u0646 \\u0646\\u0648\\u0634\\u062a\\u0646 \\u0627\\u067e\\u0644\\u06cc\\u06a9\\u06cc\\u0634\\u0646 \\u0628\\u0631\\u0627\\u06cc \\u0627\\u06cc\\u0646 \\u0645\\u0646\\u0638\\u0648\\u0631 \\u0648 \\u062a\\u0648\\u0632\\u06cc\\u0639 \\u0622\\u0646 \\u062f\\u0631 \\u0627\\u067e \\u0627\\u0633\\u062a\\u0648\\u0631 \\u0631\\u0627 \\u0627\\u0632 \\u0628\\u06cc\\u0646 \\u0645\\u06cc\\u200c\\u0628\\u0631\\u062f. \\u062f\\u0627\\u0646\\u0644\\u0648\\u062f \\u0627\\u067e\\u0644\\u06cc\\u06a9\\u06cc\\u0634\\u0646 \\u0627\\u0632 \\u0645\\u0646\\u0627\\u0628\\u0639 \\u0646\\u0627\\u0634\\u0646\\u0627\\u0633 \\u0628\\u0631\\u0627\\u06cc \\n\\u06af\\u0648\\u0634\\u06cc \\u0622\\u06cc\\u0641\\u0648\\u0646\\n \\u0647\\u0645 \\u0628\\u0647 \\u0622\\u0633\\u0627\\u0646\\u06cc \\u0627\\u0646\\u062f\\u0631\\u0648\\u06cc\\u062f \\u0646\\u06cc\\u0633\\u062a \\u0648 \\u062f\\u0631\\u0646\\u0647\\u0627\\u06cc\\u062a\\u060c \\u0628\\u0627\\u06cc\\u062f \\u0628\\u0647\\u200c\\u062f\\u0646\\u0628\\u0627\\u0644 \\u0631\\u0627\\u0647\\u06cc \\u062f\\u06cc\\u06af\\u0631 \\u0628\\u0631\\u0627\\u06cc \\u062f\\u0627\\u0646\\u0644\\u0648\\u062f \\u0641\\u06cc\\u0644\\u0645 \\u0627\\u0632 \\u06cc\\u0648\\u062a\\u06cc\\u0648\\u0628 \\u0628\\u0627\\u0634\\u06cc\\u062f.\\n\\u0628\\u0647\\u062a\\u0631\\u06cc\\u0646 \\u0631\\u0648\\u0634 \\u0628\\u0631\\u0627\\u06cc \\u062f\\u0627\\u0646\\u0644\\u0648\\u062f \\u0627\\u0632 \\u06cc\\u0648\\u06cc\\u062a\\u0648\\u0628 \\u062f\\u0631 \\u06af\\u0648\\u0634\\u06cc\\u200c\\u0647\\u0627\\u06cc \\u0622\\u06cc\\u0641\\u0648\\u0646\\u060c \\u0627\\u0633\\u062a\\u0641\\u0627\\u062f\\u0647 \\u0627\\u0632 \\u0648\\u0628\\u200c\\u0633\\u0627\\u06cc\\u062a\\u200c\\u0647\\u0627\\u06cc \\u0645\\u0628\\u062a\\u0646\\u06cc\\u200c\\u0628\\u0631 \\u0648\\u0628 \\u0647\\u0645\\u0686\\u0648\\u0646 AceThinker \\u0627\\u0633\\u062a \\u06a9\\u0647 \\u062f\\u0631 \\u0628\\u062e\\u0634 \\u0642\\u0628\\u0644 \\u0628\\u0647 \\u0622\\u0646\\u200c\\u0647\\u0627 \\u0627\\u0634\\u0627\\u0631\\u0647 \\u06a9\\u0631\\u062f\\u06cc\\u0645.\\n\\u0634\\u0645\\u0627 \\u0627\\u0632 \\u0686\\u0647 \\u0631\\u0627\\u0647\\u06a9\\u0627\\u0631\\u06cc \\u0628\\u0631\\u0627\\u06cc \\u062f\\u0627\\u0646\\u0644\\u0648\\u062f \\u0648\\u06cc\\u062f\\u06cc\\u0648 \\u0627\\u0632 \\u06cc\\u0648\\u062a\\u06cc\\u0648\\u0628 \\u0627\\u0633\\u062a\\u0641\\u0627\\u062f\\u0647 \\u0645\\u06cc\\u200c\\u06a9\\u0646\\u06cc\\u062f\\u061f \\u0646\\u0638\\u0631\\u0627\\u062a \\u0648 \\u062a\\u062c\\u0631\\u0628\\u06cc\\u0627\\u062a \\u062e\\u0648\\u062f \\u0631\\u0627 \\u062f\\u0631 \\u0628\\u062e\\u0634 \\u062f\\u06cc\\u062f\\u06af\\u0627\\u0647\\u200c\\u0647\\u0627 \\u0628\\u0627 \\u0645\\u0627 \\u0648 \\u062f\\u06cc\\u06af\\u0631 \\u06a9\\u0627\\u0631\\u0628\\u0631\\u0627\\u0646 \\u0632\\u0648\\u0645\\u06cc\\u062a \\u062f\\u0631 \\u0645\\u06cc\\u0627\\u0646 \\u0628\\u06af\\u0630\\u0627\\u0631\\u06cc\\u062f.\\n\\u0628\\u0631\\u0627\\u06cc \\u062f\\u0627\\u0646\\u0644\\u0648\\u062f \\u0627\\u0632 \\u06cc\\u0648\\u062a\\u06cc\\u0648\\u0628 \\u0645\\u06cc\\u200c\\u062a\\u0648\\u0627\\u0646\\u06cc\\u062f \\u0627\\u0632 \\u0648\\u0628\\u200c\\u0633\\u0627\\u06cc\\u062a\\u200c\\u0647\\u0627\\u06cc\\u06cc \\u06a9\\u0647 \\u0628\\u0647 \\u0635\\u0648\\u0631\\u062a \\u0622\\u0646\\u0644\\u0627\\u06cc\\u0646 \\u0647\\u0645\\u0686\\u0648\\u0646 AceThinker \\u0627\\u0633\\u062a\\u0641\\u0627\\u062f\\u0647 \\u06a9\\u0646\\u06cc\\u062f.\\n\\u0628\\u0631\\u0627\\u06cc \\u062f\\u0627\\u0646\\u0644\\u0648\\u062f \\u0627\\u0632 \\u06cc\\u0648\\u062a\\u06cc\\u0648\\u0628 \\u062f\\u0631 \\u0627\\u0646\\u062f\\u0631\\u0648\\u06cc\\u062f \\u0645\\u06cc\\u200c\\u062a\\u0648\\u0627\\u0646\\u06cc\\u062f \\u0627\\u0632 \\u0627\\u067e\\u0644\\u06cc\\u06a9\\u06cc\\u0634\\u0646\\u200c\\u0647\\u0627\\u06cc\\u06cc \\u0647\\u0645\\u0686\\u0648\\u0646 4K Video Downloade \\u0627\\u0633\\u062a\\u0641\\u0627\\u062f\\u0647 \\u06a9\\u0646\\u06cc\\u062f \\u06cc\\u0627 \\u0627\\u0632 \\u0637\\u0631\\u06cc\\u0642 \\u0628\\u0627\\u062a\\u200c\\u0647\\u0627\\u06cc \\u062a\\u0644\\u06af\\u0631\\u0627\\u0645\\u06cc \\u062f\\u0627\\u0646\\u0644\\u0648\\u062f \\u0648\\u06cc\\u062f\\u06cc\\u0648 \\u0631\\u0627 \\u0627\\u0646\\u062c\\u0627\\u0645 \\u062f\\u0647\\u06cc\\u062f.\"\n        ],\n        \"semantic_type\": \"\",\n        \"description\": \"\"\n      }\n    },\n    {\n      \"column\": \"tags\",\n      \"properties\": {\n        \"dtype\": \"category\",\n        \"num_unique_values\": 1,\n        \"samples\": [\n          \"[]\"\n        ],\n        \"semantic_type\": \"\",\n        \"description\": \"\"\n      }\n    },\n    {\n      \"column\": \"keywords\",\n      \"properties\": {\n        \"dtype\": \"category\",\n        \"num_unique_values\": 1,\n        \"samples\": [\n          \"[]\"\n        ],\n        \"semantic_type\": \"\",\n        \"description\": \"\"\n      }\n    },\n    {\n      \"column\": \"label\",\n      \"properties\": {\n        \"dtype\": \"category\",\n        \"num_unique_values\": 3,\n        \"samples\": [\n          \"computer-learning\"\n        ],\n        \"semantic_type\": \"\",\n        \"description\": \"\"\n      }\n    },\n    {\n      \"column\": \"crawled_date\",\n      \"properties\": {\n        \"dtype\": \"object\",\n        \"num_unique_values\": 75,\n        \"samples\": [\n          \"2024-06-24T20:55:59.457658\"\n        ],\n        \"semantic_type\": \"\",\n        \"description\": \"\"\n      }\n    }\n  ]\n}"
            }
          },
          "metadata": {},
          "execution_count": 3
        }
      ]
    },
    {
      "cell_type": "code",
      "source": [
        "labels = []\n",
        "labels = df['label'].tolist()"
      ],
      "metadata": {
        "id": "I82H0U4dKRkR"
      },
      "execution_count": 16,
      "outputs": []
    },
    {
      "cell_type": "code",
      "source": [
        "df['label'] = df['label'].replace('technology', 'mobile')"
      ],
      "metadata": {
        "id": "bMIqEojqLPgJ"
      },
      "execution_count": 15,
      "outputs": []
    },
    {
      "cell_type": "code",
      "source": [
        "print(set(labels))"
      ],
      "metadata": {
        "colab": {
          "base_uri": "https://localhost:8080/"
        },
        "id": "9v_gymI_Kj3C",
        "outputId": "8d54f0a5-a5c6-418f-d8d7-a566ae7edc53"
      },
      "execution_count": 17,
      "outputs": [
        {
          "output_type": "stream",
          "name": "stdout",
          "text": [
            "{'mobile', 'laptop', 'computer-learning'}\n"
          ]
        }
      ]
    },
    {
      "cell_type": "code",
      "source": [
        "# !pip install sentence_transformers\n",
        "!pip uninstall umap\n",
        "!pip install --upgrade umap-learn"
      ],
      "metadata": {
        "colab": {
          "base_uri": "https://localhost:8080/"
        },
        "collapsed": true,
        "id": "ghcV5KA2Jsu_",
        "outputId": "11677432-1e62-4034-f5bd-268a2410e575"
      },
      "execution_count": 29,
      "outputs": [
        {
          "output_type": "stream",
          "name": "stdout",
          "text": [
            "\u001b[33mWARNING: Skipping umap as it is not installed.\u001b[0m\u001b[33m\n",
            "\u001b[0mRequirement already satisfied: umap-learn in /usr/local/lib/python3.10/dist-packages (0.5.6)\n",
            "Requirement already satisfied: numpy>=1.17 in /usr/local/lib/python3.10/dist-packages (from umap-learn) (1.25.2)\n",
            "Requirement already satisfied: scipy>=1.3.1 in /usr/local/lib/python3.10/dist-packages (from umap-learn) (1.11.4)\n",
            "Requirement already satisfied: scikit-learn>=0.22 in /usr/local/lib/python3.10/dist-packages (from umap-learn) (1.2.2)\n",
            "Requirement already satisfied: numba>=0.51.2 in /usr/local/lib/python3.10/dist-packages (from umap-learn) (0.58.1)\n",
            "Requirement already satisfied: pynndescent>=0.5 in /usr/local/lib/python3.10/dist-packages (from umap-learn) (0.5.13)\n",
            "Requirement already satisfied: tqdm in /usr/local/lib/python3.10/dist-packages (from umap-learn) (4.66.4)\n",
            "Requirement already satisfied: llvmlite<0.42,>=0.41.0dev0 in /usr/local/lib/python3.10/dist-packages (from numba>=0.51.2->umap-learn) (0.41.1)\n",
            "Requirement already satisfied: joblib>=0.11 in /usr/local/lib/python3.10/dist-packages (from pynndescent>=0.5->umap-learn) (1.4.2)\n",
            "Requirement already satisfied: threadpoolctl>=2.0.0 in /usr/local/lib/python3.10/dist-packages (from scikit-learn>=0.22->umap-learn) (3.5.0)\n"
          ]
        }
      ]
    },
    {
      "cell_type": "code",
      "source": [
        "from sentence_transformers import SentenceTransformer\n",
        "embedding_model = SentenceTransformer(\"paraphrase-multilingual-MiniLM-L12-v2\")\n",
        "\n",
        "all_embeddings = embedding_model.encode(df['content'].tolist(), convert_to_tensor=True)\n",
        "\n",
        "if not isinstance(all_embeddings, torch.Tensor):\n",
        "    all_embeddings_tensor = torch.stack(all_embeddings)\n",
        "else:\n",
        "    all_embeddings_tensor = all_embeddings\n",
        "print(all_embeddings_tensor.shape)"
      ],
      "metadata": {
        "colab": {
          "base_uri": "https://localhost:8080/"
        },
        "id": "A-8kDYmDHWiI",
        "outputId": "e875b4d8-8cb2-4068-bf49-340e7e39c122"
      },
      "execution_count": 9,
      "outputs": [
        {
          "output_type": "stream",
          "name": "stderr",
          "text": [
            "/usr/local/lib/python3.10/dist-packages/huggingface_hub/file_download.py:1132: FutureWarning: `resume_download` is deprecated and will be removed in version 1.0.0. Downloads always resume when possible. If you want to force a new download, use `force_download=True`.\n",
            "  warnings.warn(\n"
          ]
        },
        {
          "output_type": "stream",
          "name": "stdout",
          "text": [
            "torch.Size([75, 384])\n"
          ]
        }
      ]
    },
    {
      "cell_type": "code",
      "source": [
        "umap_model = umap.UMAP(n_neighbors=15, min_dist=0.1, n_components=50).fit(all_embeddings_tensor)\n",
        "umap_embeddings = umap_model.fit_transform(all_embeddings_tensor.cpu().numpy())"
      ],
      "metadata": {
        "colab": {
          "base_uri": "https://localhost:8080/",
          "height": 183
        },
        "collapsed": true,
        "id": "VXkc4OnDJxlF",
        "outputId": "107cad60-2c43-4400-e805-454087a82a50"
      },
      "execution_count": 32,
      "outputs": [
        {
          "output_type": "error",
          "ename": "AttributeError",
          "evalue": "module 'umap' has no attribute 'UMAP'",
          "traceback": [
            "\u001b[0;31m---------------------------------------------------------------------------\u001b[0m",
            "\u001b[0;31mAttributeError\u001b[0m                            Traceback (most recent call last)",
            "\u001b[0;32m<ipython-input-32-b972690f6c0b>\u001b[0m in \u001b[0;36m<cell line: 1>\u001b[0;34m()\u001b[0m\n\u001b[0;32m----> 1\u001b[0;31m \u001b[0mumap_model\u001b[0m \u001b[0;34m=\u001b[0m \u001b[0mumap\u001b[0m\u001b[0;34m.\u001b[0m\u001b[0mUMAP\u001b[0m\u001b[0;34m(\u001b[0m\u001b[0mn_neighbors\u001b[0m\u001b[0;34m=\u001b[0m\u001b[0;36m15\u001b[0m\u001b[0;34m,\u001b[0m \u001b[0mmin_dist\u001b[0m\u001b[0;34m=\u001b[0m\u001b[0;36m0.1\u001b[0m\u001b[0;34m,\u001b[0m \u001b[0mn_components\u001b[0m\u001b[0;34m=\u001b[0m\u001b[0;36m50\u001b[0m\u001b[0;34m)\u001b[0m\u001b[0;34m.\u001b[0m\u001b[0mfit\u001b[0m\u001b[0;34m(\u001b[0m\u001b[0mall_embeddings_tensor\u001b[0m\u001b[0;34m)\u001b[0m\u001b[0;34m\u001b[0m\u001b[0;34m\u001b[0m\u001b[0m\n\u001b[0m\u001b[1;32m      2\u001b[0m \u001b[0mumap_embeddings\u001b[0m \u001b[0;34m=\u001b[0m \u001b[0mumap_model\u001b[0m\u001b[0;34m.\u001b[0m\u001b[0mfit_transform\u001b[0m\u001b[0;34m(\u001b[0m\u001b[0mall_embeddings_tensor\u001b[0m\u001b[0;34m.\u001b[0m\u001b[0mcpu\u001b[0m\u001b[0;34m(\u001b[0m\u001b[0;34m)\u001b[0m\u001b[0;34m.\u001b[0m\u001b[0mnumpy\u001b[0m\u001b[0;34m(\u001b[0m\u001b[0;34m)\u001b[0m\u001b[0;34m)\u001b[0m\u001b[0;34m\u001b[0m\u001b[0;34m\u001b[0m\u001b[0m\n",
            "\u001b[0;31mAttributeError\u001b[0m: module 'umap' has no attribute 'UMAP'"
          ]
        }
      ]
    },
    {
      "cell_type": "code",
      "source": [
        "kmeans = KMeans(n_clusters=3, random_state=42)\n",
        "kmeans_labels = kmeans.fit_predict(all_embeddings_tensor)"
      ],
      "metadata": {
        "colab": {
          "base_uri": "https://localhost:8080/"
        },
        "id": "lZGLE9r5NybL",
        "outputId": "95ef8538-30db-4388-c858-112496865057"
      },
      "execution_count": 38,
      "outputs": [
        {
          "output_type": "stream",
          "name": "stderr",
          "text": [
            "/usr/local/lib/python3.10/dist-packages/sklearn/cluster/_kmeans.py:870: FutureWarning: The default value of `n_init` will change from 10 to 'auto' in 1.4. Set the value of `n_init` explicitly to suppress the warning\n",
            "  warnings.warn(\n"
          ]
        }
      ]
    },
    {
      "cell_type": "code",
      "source": [
        "kmeans_cluster_sentences = {}\n",
        "for label, sentence in zip(kmeans_labels, df['content']):\n",
        "    if label not in kmeans_cluster_sentences:\n",
        "        kmeans_cluster_sentences[label] = []\n",
        "    kmeans_cluster_sentences[label].append(sentence)"
      ],
      "metadata": {
        "id": "Ud43Jx9WN51n"
      },
      "execution_count": 39,
      "outputs": []
    },
    {
      "cell_type": "code",
      "source": [
        "import csv\n",
        "\n",
        "csv_file_name = 'kmeans_clusters.csv'\n",
        "\n",
        "with open(csv_file_name, 'w', newline='', encoding='utf-8') as csvfile:\n",
        "    writer = csv.writer(csvfile)\n",
        "    writer.writerow(['Cluster', 'Tweet'])\n",
        "\n",
        "    for cluster, sentences in kmeans_cluster_sentences.items():\n",
        "        for sentence in sentences:\n",
        "            writer.writerow([cluster, sentence])"
      ],
      "metadata": {
        "id": "fPOR_EDXOMPB"
      },
      "execution_count": 40,
      "outputs": []
    },
    {
      "cell_type": "code",
      "source": [],
      "metadata": {
        "id": "ynfnMpN2OOSz"
      },
      "execution_count": null,
      "outputs": []
    }
  ]
}